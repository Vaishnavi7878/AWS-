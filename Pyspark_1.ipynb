{
  "nbformat": 4,
  "nbformat_minor": 0,
  "metadata": {
    "colab": {
      "provenance": []
    },
    "kernelspec": {
      "name": "python3",
      "display_name": "Python 3"
    },
    "language_info": {
      "name": "python"
    }
  },
  "cells": [
    {
      "cell_type": "markdown",
      "source": [
        "23 -06-2025 date pyspark\n"
      ],
      "metadata": {
        "id": "NFcpaQo-M_5_"
      }
    },
    {
      "cell_type": "code",
      "execution_count": null,
      "metadata": {
        "colab": {
          "base_uri": "https://localhost:8080/"
        },
        "id": "RYoOGnWdLbam",
        "outputId": "fc0cddb9-aaa5-45ff-8434-c20742632132"
      },
      "outputs": [
        {
          "output_type": "stream",
          "name": "stdout",
          "text": [
            "Requirement already satisfied: pyspark in /usr/local/lib/python3.11/dist-packages (3.5.1)\n",
            "Requirement already satisfied: py4j==0.10.9.7 in /usr/local/lib/python3.11/dist-packages (from pyspark) (0.10.9.7)\n"
          ]
        }
      ],
      "source": [
        "# importing\n",
        "!pip install pyspark"
      ]
    },
    {
      "cell_type": "code",
      "source": [
        "import pyspark"
      ],
      "metadata": {
        "id": "B1YTFjWpMI-B"
      },
      "execution_count": null,
      "outputs": []
    },
    {
      "cell_type": "code",
      "source": [
        "# start spark session\n",
        "from pyspark.sql import SparkSession\n",
        "spark = SparkSession.builder.appName('pyspark_1').getOrCreate()"
      ],
      "metadata": {
        "id": "83rZkiNPMT_z"
      },
      "execution_count": null,
      "outputs": []
    },
    {
      "cell_type": "code",
      "source": [
        "# read the dataset\n",
        "df = spark.read.csv('/content/vaishnavi pyspark file short.csv')"
      ],
      "metadata": {
        "id": "4eDX6dfCMd3I"
      },
      "execution_count": null,
      "outputs": []
    },
    {
      "cell_type": "code",
      "source": [
        "df.show()"
      ],
      "metadata": {
        "colab": {
          "base_uri": "https://localhost:8080/"
        },
        "id": "pyKyI017MwDd",
        "outputId": "807b417f-f256-447e-8a48-cba52fb455cb"
      },
      "execution_count": null,
      "outputs": [
        {
          "output_type": "stream",
          "name": "stdout",
          "text": [
            "+------------+---+-----------+------+\n",
            "|         _c0|_c1|        _c2|   _c3|\n",
            "+------------+---+-----------+------+\n",
            "|        name|age|  location |marks |\n",
            "| Rohan Mehta| 45|     delhi |    52|\n",
            "| Neha Sharma| 12|    mumbai |    16|\n",
            "| Arjun Yadav| 15|      pune |    23|\n",
            "| Priya Verma| 42|    gujrat |    99|\n",
            "|   Sneha Roy| 25|     patna |    25|\n",
            "|Rahul Khanna| 32|     delhi |    74|\n",
            "| Rohan Mehta| 24|east delhi |    15|\n",
            "|   Sneha Roy| 26|    mumbai |    31|\n",
            "|Tanya Bhatia| 27|     panjab|    78|\n",
            "| Neha Sharma| 29|  hariyana |    80|\n",
            "|  Vikas Jain| 30|     delhi |    74|\n",
            "|Rahul Khanna| 23|    mumbai |    47|\n",
            "+------------+---+-----------+------+\n",
            "\n"
          ]
        }
      ]
    },
    {
      "cell_type": "code",
      "source": [
        "from google.colab import drive\n",
        "drive.mount('/content/drive')  # optional step"
      ],
      "metadata": {
        "id": "P3TkMJnyMyeq"
      },
      "execution_count": null,
      "outputs": []
    },
    {
      "cell_type": "code",
      "source": [
        "df= spark.read.option('header','true').csv('/content/vaishnavi pyspark file short.csv')"
      ],
      "metadata": {
        "id": "BSxctJKhNg6t"
      },
      "execution_count": null,
      "outputs": []
    },
    {
      "cell_type": "code",
      "source": [
        "df.show()"
      ],
      "metadata": {
        "colab": {
          "base_uri": "https://localhost:8080/"
        },
        "id": "Jp9NMagRNlb0",
        "outputId": "d9944fa3-1894-43c6-95b7-a0129792a8b5"
      },
      "execution_count": null,
      "outputs": [
        {
          "output_type": "stream",
          "name": "stdout",
          "text": [
            "+------------+---+-----------+------+\n",
            "|        name|age|  location |marks |\n",
            "+------------+---+-----------+------+\n",
            "| Rohan Mehta| 45|     delhi |    52|\n",
            "| Neha Sharma| 12|    mumbai |    16|\n",
            "| Arjun Yadav| 15|      pune |    23|\n",
            "| Priya Verma| 42|    gujrat |    99|\n",
            "|   Sneha Roy| 25|     patna |    25|\n",
            "|Rahul Khanna| 32|     delhi |    74|\n",
            "| Rohan Mehta| 24|east delhi |    15|\n",
            "|   Sneha Roy| 26|    mumbai |    31|\n",
            "|Tanya Bhatia| 27|     panjab|    78|\n",
            "| Neha Sharma| 29|  hariyana |    80|\n",
            "|  Vikas Jain| 30|     delhi |    74|\n",
            "|Rahul Khanna| 23|    mumbai |    47|\n",
            "+------------+---+-----------+------+\n",
            "\n"
          ]
        }
      ]
    },
    {
      "cell_type": "code",
      "source": [
        "# check the dtypes\n",
        "df.printSchema()"
      ],
      "metadata": {
        "colab": {
          "base_uri": "https://localhost:8080/"
        },
        "id": "g47Z7c_GNom9",
        "outputId": "dfdea1db-c043-404c-8a25-d78e2aeddcda"
      },
      "execution_count": null,
      "outputs": [
        {
          "output_type": "stream",
          "name": "stdout",
          "text": [
            "root\n",
            " |-- name: string (nullable = true)\n",
            " |-- age: string (nullable = true)\n",
            " |-- location : string (nullable = true)\n",
            " |-- marks : string (nullable = true)\n",
            "\n"
          ]
        }
      ]
    },
    {
      "cell_type": "code",
      "source": [
        "df= spark.read.option('header','true').csv('/content/vaishnavi pyspark file short.csv',inferSchema=True)"
      ],
      "metadata": {
        "id": "Xy9aCFUuNv0J"
      },
      "execution_count": null,
      "outputs": []
    },
    {
      "cell_type": "code",
      "source": [
        "df.printSchema()"
      ],
      "metadata": {
        "colab": {
          "base_uri": "https://localhost:8080/"
        },
        "id": "WnKDjh8nOGKv",
        "outputId": "32288323-76ab-4045-a95c-75503a7d7548"
      },
      "execution_count": null,
      "outputs": [
        {
          "output_type": "stream",
          "name": "stdout",
          "text": [
            "root\n",
            " |-- name: string (nullable = true)\n",
            " |-- age: integer (nullable = true)\n",
            " |-- location : string (nullable = true)\n",
            " |-- marks : integer (nullable = true)\n",
            "\n"
          ]
        }
      ]
    },
    {
      "cell_type": "code",
      "source": [
        "# check the summary\n",
        "df.describe().show()"
      ],
      "metadata": {
        "colab": {
          "base_uri": "https://localhost:8080/"
        },
        "id": "Pr79wZrbOJHz",
        "outputId": "e13ab212-e7ec-41bb-ad31-53cf9d2ff1de"
      },
      "execution_count": null,
      "outputs": [
        {
          "output_type": "stream",
          "name": "stdout",
          "text": [
            "+-------+-----------+-----------------+---------+------------------+\n",
            "|summary|       name|              age|location |            marks |\n",
            "+-------+-----------+-----------------+---------+------------------+\n",
            "|  count|         12|               12|       12|                12|\n",
            "|   mean|       NULL|             27.5|     NULL|51.166666666666664|\n",
            "| stddev|       NULL|9.453234174801572|     NULL|29.123040966758868|\n",
            "|    min|Arjun Yadav|               12|   delhi |                15|\n",
            "|    max| Vikas Jain|               45|    pune |                99|\n",
            "+-------+-----------+-----------------+---------+------------------+\n",
            "\n"
          ]
        }
      ]
    },
    {
      "cell_type": "code",
      "source": [
        "# or\n",
        "df.summary().show()"
      ],
      "metadata": {
        "colab": {
          "base_uri": "https://localhost:8080/"
        },
        "id": "vwuAE9WbQNyI",
        "outputId": "61e3809b-fc4d-4ae7-80d8-bd9715bff05d"
      },
      "execution_count": null,
      "outputs": [
        {
          "output_type": "stream",
          "name": "stdout",
          "text": [
            "+-------+-----------+-----------------+---------+------------------+\n",
            "|summary|       name|              age|location |            marks |\n",
            "+-------+-----------+-----------------+---------+------------------+\n",
            "|  count|         12|               12|       12|                12|\n",
            "|   mean|       NULL|             27.5|     NULL|51.166666666666664|\n",
            "| stddev|       NULL|9.453234174801572|     NULL|29.123040966758868|\n",
            "|    min|Arjun Yadav|               12|   delhi |                15|\n",
            "|    25%|       NULL|               23|     NULL|                23|\n",
            "|    50%|       NULL|               26|     NULL|                47|\n",
            "|    75%|       NULL|               30|     NULL|                74|\n",
            "|    max| Vikas Jain|               45|    pune |                99|\n",
            "+-------+-----------+-----------------+---------+------------------+\n",
            "\n"
          ]
        }
      ]
    },
    {
      "cell_type": "code",
      "source": [],
      "metadata": {
        "id": "jN5cPGEGQT09"
      },
      "execution_count": null,
      "outputs": []
    }
  ]
}